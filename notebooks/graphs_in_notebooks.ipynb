{
 "cells": [
  {
   "cell_type": "markdown",
   "id": "29672c56",
   "metadata": {},
   "source": [
    "# This notebook demonstrates force-cirected graph layout using pyvis"
   ]
  },
  {
   "cell_type": "code",
   "execution_count": null,
   "id": "4ea4259d",
   "metadata": {},
   "outputs": [],
   "source": [
    "%pip install networkx\n",
    "%pip install pyvis"
   ]
  },
  {
   "cell_type": "code",
   "execution_count": null,
   "id": "169b2c4e",
   "metadata": {},
   "outputs": [],
   "source": [
    "from pyvis import network as net\n",
    "import networkx as nx"
   ]
  },
  {
   "cell_type": "code",
   "execution_count": null,
   "id": "2c0e7ae7",
   "metadata": {},
   "outputs": [],
   "source": [
    "g = net.Network(notebook=True)\n",
    "nxg = nx.complete_graph(5)\n",
    "g.from_nx(nxg)\n",
    "g.show(\"example.html\")"
   ]
  },
  {
   "cell_type": "code",
   "execution_count": null,
   "id": "b7118d6b",
   "metadata": {},
   "outputs": [],
   "source": []
  }
 ],
 "metadata": {
  "kernelspec": {
   "display_name": "Python (VisClassEnv)",
   "language": "python",
   "name": "visclassenv"
  },
  "language_info": {
   "codemirror_mode": {
    "name": "ipython",
    "version": 3
   },
   "file_extension": ".py",
   "mimetype": "text/x-python",
   "name": "python",
   "nbconvert_exporter": "python",
   "pygments_lexer": "ipython3",
   "version": "3.8.12"
  }
 },
 "nbformat": 4,
 "nbformat_minor": 5
}
