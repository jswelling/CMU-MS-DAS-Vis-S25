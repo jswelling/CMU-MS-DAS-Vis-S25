{
 "cells": [
  {
   "cell_type": "code",
   "execution_count": null,
   "id": "11e66661",
   "metadata": {},
   "outputs": [],
   "source": [
    "install.packages(\"ggplot2\")"
   ]
  },
  {
   "cell_type": "code",
   "execution_count": null,
   "id": "ec86def4",
   "metadata": {},
   "outputs": [],
   "source": [
    "library(ggplot2)"
   ]
  },
  {
   "cell_type": "code",
   "execution_count": null,
   "id": "04722878",
   "metadata": {},
   "outputs": [],
   "source": [
    "ggplot(mpg, aes(displ, hwy, colour = class)) + \n",
    "  geom_point() +\n",
    "  facet_wrap(~ cyl)"
   ]
  },
  {
   "cell_type": "code",
   "execution_count": null,
   "id": "e910a733",
   "metadata": {},
   "outputs": [],
   "source": [
    "ggplot(mpg, aes(displ, hwy, colour = cyl)) + \n",
    "  geom_point() +\n",
    "  facet_wrap(~ class)"
   ]
  },
  {
   "cell_type": "code",
   "execution_count": null,
   "id": "d2c74b8c",
   "metadata": {},
   "outputs": [],
   "source": []
  }
 ],
 "metadata": {
  "kernelspec": {
   "display_name": "R",
   "language": "R",
   "name": "ir"
  },
  "language_info": {
   "codemirror_mode": "r",
   "file_extension": ".r",
   "mimetype": "text/x-r-source",
   "name": "R",
   "pygments_lexer": "r",
   "version": "4.1.3"
  }
 },
 "nbformat": 4,
 "nbformat_minor": 5
}
